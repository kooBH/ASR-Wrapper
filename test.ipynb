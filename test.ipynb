{
 "cells": [
  {
   "cell_type": "code",
   "execution_count": 17,
   "id": "2aaeb1b4-3c6d-4641-a7c2-109e934e79e1",
   "metadata": {},
   "outputs": [],
   "source": [
    "import ETRI\n",
    "import jiwer"
   ]
  },
  {
   "cell_type": "code",
   "execution_count": 18,
   "id": "14c67202-97eb-4908-a53c-edc97547cdf5",
   "metadata": {},
   "outputs": [],
   "source": [
    "audio_path = \"data/20210526_1.wav\"\n",
    "script_path =  \"data/20210526_1.txt\""
   ]
  },
  {
   "cell_type": "code",
   "execution_count": 19,
   "id": "c3256be4-2f00-4857-b3e0-0b24f087b6e5",
   "metadata": {},
   "outputs": [
    {
     "name": "stdout",
     "output_type": "stream",
     "text": [
      "{'result': 0, 'return_object': {'recognized': '한시간 전보다 서울의 하늘에 구름이 더 많습니다 지금 방송을 기다리는 동안 한두방울씩 빗방울이 떨어지기 시작했는데요 제주도 에는비가 내리기 시작했습니다 오늘 낮 동안 수도권과 강원영서 일부 지역에 비가 조금 내리겠습니다 오 미리 미만으로 살짝만 내리겠고요 지속 시간도 길지 않았어 큰 불편함은 없겠습니다 밤부터 전남과 영남에도 비가 오겠고요 내일 새벽 사이에 전국으로 비구름이 확대되겠습니다 앞으로 제주도에 최고 80 미리 꽤 많은 양의 비가 내리겠고요 특히 밤 사이에 시간당 15 미리 안팎으로 강하게 비가 쏟아 지겠습니다 제주도 '}}\n"
     ]
    }
   ],
   "source": [
    "ASR_result = ETRI.ASR(audio_path)"
   ]
  },
  {
   "cell_type": "code",
   "execution_count": 36,
   "id": "46b8ee80-742f-42ac-b40e-4763dd15b22f",
   "metadata": {},
   "outputs": [
    {
     "name": "stdout",
     "output_type": "stream",
     "text": [
      "+ Result\n",
      "한시간 전보다 서울의 하늘에 구름이 더 많습니다 지금 방송을 기다리는 동안 한두방울씩 빗방울이 떨어지기 시작했는데요 제주도 에는비가 내리기 시작했습니다 오늘 낮 동안 수도권과 강원영서 일부 지역에 비가 조금 내리겠습니다 오 미리 미만으로 살짝만 내리겠고요 지속 시간도 길지 않았어 큰 불편함은 없겠습니다 밤부터 전남과 영남에도 비가 오겠고요 내일 새벽 사이에 전국으로 비구름이 확대되겠습니다 앞으로 제주도에 최고 80 미리 꽤 많은 양의 비가 내리겠고요 특히 밤 사이에 시간당 15 미리 안팎으로 강하게 비가 쏟아 지겠습니다 제주도 \n",
      "+ Ground Truth\n",
      "1시간 전보다 서울의 하늘에 구름이 많아졌습니다. 지금 방송을 기다리는 동안 한두 방울씩 빗방울이 떨어지기 시작했는데요. 제주도에는 비가 내리기 시작했습니다. 오늘 낮 동안 수도권과 강원 영서 일부 지역에 비가 조금 내리겠습니다. 5mm 미만으로 살짝만 내리겠고요. 지속 시간도 길지 않아서 큰 불편함은 없겠습니다. 밤부턴 전남과 영남에도 비가 오겠고요. 내일 새벽 사이 전국으로 비구름이 확대되겠습니다. 앞으로 제주도에 최고 80mm의 꽤 많은 양의 비가 내리겠고요. 특히 밤사이 시간당 15mm 안팎으로 강하게 비가 쏟아지겠습니다.\n",
      "+ PreProcessed Ground Truth\n",
      "1시간 전보다 서울의 하늘에 구름이 많아졌습니다 지금 방송을 기다리는 동안 한두 방울씩 빗방울이 떨어지기 시작했는데요 제주도에는 비가 내리기 시작했습니다 오늘 낮 동안 수도권과 강원 영서 일부 지역에 비가 조금 내리겠습니다 5미리 미만으로 살짝만 내리겠고요 지속 시간도 길지 않아서 큰 불편함은 없겠습니다 밤부턴 전남과 영남에도 비가 오겠고요 내일 새벽 사이 전국으로 비구름이 확대되겠습니다 앞으로 제주도에 최고 80미리의 꽤 많은 양의 비가 내리겠고요 특히 밤사이 시간당 15미리 안팎으로 강하게 비가 쏟아지겠습니다\n"
     ]
    }
   ],
   "source": [
    "script = open(script_path)\n",
    "ground_truth = script.readlines()[0]\n",
    "script.close()\n",
    "print('+ Result')\n",
    "print(ASR_result)\n",
    "print('+ Ground Truth')\n",
    "print(ground_truth)\n",
    "ground_truth = ground_truth.replace('mm','미리')\n",
    "ground_truth = ground_truth.replace('.','')\n",
    "print('+ PreProcessed Ground Truth')\n",
    "print(ground_truth)"
   ]
  },
  {
   "cell_type": "code",
   "execution_count": 32,
   "id": "d1b9f3e1-58ae-42fa-8d5b-cee1a24dd4f2",
   "metadata": {},
   "outputs": [
    {
     "name": "stdout",
     "output_type": "stream",
     "text": [
      "0.3333333333333333\n"
     ]
    }
   ],
   "source": [
    "error = jiwer.wer(ground_truth, ASR_result)\n",
    "print(error)"
   ]
  },
  {
   "cell_type": "code",
   "execution_count": 23,
   "id": "317b94c0-4478-46d8-b692-94a25eeef68b",
   "metadata": {},
   "outputs": [
    {
     "name": "stdout",
     "output_type": "stream",
     "text": [
      "0.0\n"
     ]
    }
   ],
   "source": [
    "print(jiwer.wer('안녕하세요','안녕하세요'))"
   ]
  },
  {
   "cell_type": "code",
   "execution_count": 24,
   "id": "66da9898-6cab-41af-92c9-79b13efb6999",
   "metadata": {},
   "outputs": [
    {
     "name": "stdout",
     "output_type": "stream",
     "text": [
      "2.0\n"
     ]
    }
   ],
   "source": [
    "print(jiwer.wer('안녕하세요','안녕 하세요'))"
   ]
  },
  {
   "cell_type": "code",
   "execution_count": 29,
   "id": "3de48a41-abc2-4544-b97d-c78424bf80ed",
   "metadata": {},
   "outputs": [
    {
     "name": "stdout",
     "output_type": "stream",
     "text": [
      "5.0\n"
     ]
    }
   ],
   "source": [
    "print(jiwer.wer(\"안녕하세요\",\"안 녕 하 세 요\"))"
   ]
  },
  {
   "cell_type": "code",
   "execution_count": 26,
   "id": "834a1d01-ecbe-4983-8f40-81abed6de632",
   "metadata": {},
   "outputs": [
    {
     "name": "stdout",
     "output_type": "stream",
     "text": [
      "1.0\n"
     ]
    }
   ],
   "source": [
    "print(jiwer.wer('안녕하세요','안녕하셔요'))"
   ]
  },
  {
   "cell_type": "code",
   "execution_count": 28,
   "id": "cdbabdbb-34bc-4ade-9b5d-85f5c38750ca",
   "metadata": {},
   "outputs": [
    {
     "name": "stdout",
     "output_type": "stream",
     "text": [
      "0.4492753623188406\n",
      "0.40789473684210525\n",
      "0.6034077555816686\n"
     ]
    }
   ],
   "source": [
    "measures = jiwer.compute_measures(ground_truth, ASR_result)\n",
    "wer = measures['wer']\n",
    "mer = measures['mer']\n",
    "wil = measures['wil']\n",
    "print(wer)\n",
    "print(mer)\n",
    "print(wil)"
   ]
  },
  {
   "cell_type": "code",
   "execution_count": 38,
   "id": "50672229-c652-4169-a7ea-799720bd1f2a",
   "metadata": {},
   "outputs": [
    {
     "name": "stdout",
     "output_type": "stream",
     "text": [
      "4.0\n",
      "1.0\n",
      "1.0\n"
     ]
    }
   ],
   "source": [
    "measures = jiwer.compute_measures(\"안녕하세요\",\"안 녕 하 세 요\")\n",
    "wer = measures['wer']\n",
    "mer = measures['mer']\n",
    "wil = measures['wil']\n",
    "print(wer)\n",
    "print(mer)\n",
    "print(wil)"
   ]
  },
  {
   "cell_type": "code",
   "execution_count": 40,
   "id": "18c3100c-d44a-4622-aadc-bd4ab30efd8f",
   "metadata": {},
   "outputs": [
    {
     "name": "stdout",
     "output_type": "stream",
     "text": [
      "2.0\n",
      "1.0\n",
      "1.0\n"
     ]
    }
   ],
   "source": [
    "measures = jiwer.compute_measures(\"안녕하세요\",\"안녕하 셔요\")\n",
    "wer = measures['wer']\n",
    "mer = measures['mer']\n",
    "wil = measures['wil']\n",
    "print(wer)\n",
    "print(mer)\n",
    "print(wil)"
   ]
  },
  {
   "cell_type": "markdown",
   "id": "16dd50ee-7327-4345-8985-c1af9aa17cc1",
   "metadata": {},
   "source": [
    "WER 은 한국어 평가에 좋은 지표가 아니다  \n",
    "=> CER"
   ]
  },
  {
   "cell_type": "code",
   "execution_count": 41,
   "id": "461d2ee0-7508-4f0e-ba48-83f6af0fd0c6",
   "metadata": {},
   "outputs": [],
   "source": [
    "import metric"
   ]
  },
  {
   "cell_type": "code",
   "execution_count": 42,
   "id": "3eec0b16-2415-4efc-9e02-eec7f3383bc9",
   "metadata": {},
   "outputs": [],
   "source": [
    "CER = metric.CharacterErrorRate()"
   ]
  },
  {
   "cell_type": "code",
   "execution_count": 45,
   "id": "b6b3aa5b-144a-451c-afa6-333d2c27d4b6",
   "metadata": {},
   "outputs": [
    {
     "name": "stdout",
     "output_type": "stream",
     "text": [
      "0.06334841628959276\n"
     ]
    }
   ],
   "source": [
    "dist,length = CER.metric(ground_truth,ASR_result)\n",
    "print(dist/length)"
   ]
  },
  {
   "cell_type": "code",
   "execution_count": 48,
   "id": "d03c6b74-af5c-4f51-b1ec-c58bf2b8e29a",
   "metadata": {},
   "outputs": [
    {
     "name": "stdout",
     "output_type": "stream",
     "text": [
      "0.0\n"
     ]
    }
   ],
   "source": [
    "dist,length = CER.metric('안녕하세요','안녕하세요')\n",
    "print(dist/length)"
   ]
  },
  {
   "cell_type": "code",
   "execution_count": 49,
   "id": "8cdcafe7-2f4d-4ef3-8408-362dbbc52b3e",
   "metadata": {},
   "outputs": [
    {
     "name": "stdout",
     "output_type": "stream",
     "text": [
      "0.0\n"
     ]
    }
   ],
   "source": [
    "dist,length = CER.metric('안녕하세요','안녕 하세요')\n",
    "print(dist/length)"
   ]
  },
  {
   "cell_type": "code",
   "execution_count": 50,
   "id": "4b219358-78d6-4856-abc2-6900a61b8007",
   "metadata": {},
   "outputs": [
    {
     "name": "stdout",
     "output_type": "stream",
     "text": [
      "0.0\n"
     ]
    }
   ],
   "source": [
    "dist,length = CER.metric('안녕하세요','안 녕 하 세 요')\n",
    "print(dist/length)"
   ]
  },
  {
   "cell_type": "code",
   "execution_count": 51,
   "id": "cff984d2-181f-4ba1-959b-69e0442540fd",
   "metadata": {},
   "outputs": [
    {
     "name": "stdout",
     "output_type": "stream",
     "text": [
      "0.2\n"
     ]
    }
   ],
   "source": [
    "dist,length = CER.metric('안녕하세요','안녕하셔요')\n",
    "print(dist/length)"
   ]
  },
  {
   "cell_type": "code",
   "execution_count": 52,
   "id": "0450a855-702a-4b53-81f7-2d5d5278a8e9",
   "metadata": {},
   "outputs": [
    {
     "name": "stdout",
     "output_type": "stream",
     "text": [
      "0.2\n"
     ]
    }
   ],
   "source": [
    "dist,length = CER.metric('안녕하세요','안녕하세요들')\n",
    "print(dist/length)"
   ]
  },
  {
   "cell_type": "code",
   "execution_count": 53,
   "id": "10aec97a-1d90-44df-8dbe-9afe9615ce43",
   "metadata": {},
   "outputs": [
    {
     "name": "stdout",
     "output_type": "stream",
     "text": [
      "0.2\n"
     ]
    }
   ],
   "source": [
    "dist,length = CER.metric('안녕하세요','안녕 하세요들')\n",
    "print(dist/length)"
   ]
  },
  {
   "cell_type": "markdown",
   "id": "b40ed84a-cce8-485f-bbec-b734be57d089",
   "metadata": {},
   "source": [
    "## ETC"
   ]
  },
  {
   "cell_type": "code",
   "execution_count": 57,
   "id": "81053c0f-b2fd-4328-bf4e-2176b1f55370",
   "metadata": {},
   "outputs": [
    {
     "name": "stdout",
     "output_type": "stream",
     "text": [
      "Today's date: 2021-05-26\n",
      "<class 'str'>\n",
      "2021-05-26\n"
     ]
    }
   ],
   "source": [
    "from datetime import date\n",
    "\n",
    "today = date.today()\n",
    "print(\"Today's date:\", today)\n",
    "print(type(str(today)))\n",
    "print(str(today))"
   ]
  },
  {
   "cell_type": "code",
   "execution_count": 68,
   "id": "15c22ea3-d91b-4f4c-b9c1-fad2ce7f613b",
   "metadata": {},
   "outputs": [
    {
     "data": {
      "text/plain": [
       "'2021 05 26 17 00 18'"
      ]
     },
     "execution_count": 68,
     "metadata": {},
     "output_type": "execute_result"
    }
   ],
   "source": [
    "from datetime import datetime\n",
    "datetime.now().strftime(\"%d/%m/%Y %H:%M:%S\")\n",
    "datetime.now().strftime(\"%Y %m %d %H %M %S\")"
   ]
  },
  {
   "cell_type": "code",
   "execution_count": null,
   "id": "b14a096f-24c8-4862-9215-268f755096ed",
   "metadata": {},
   "outputs": [],
   "source": []
  }
 ],
 "metadata": {
  "kernelspec": {
   "display_name": "Python 3",
   "language": "python",
   "name": "python3"
  },
  "language_info": {
   "codemirror_mode": {
    "name": "ipython",
    "version": 3
   },
   "file_extension": ".py",
   "mimetype": "text/x-python",
   "name": "python",
   "nbconvert_exporter": "python",
   "pygments_lexer": "ipython3",
   "version": "3.8.0"
  }
 },
 "nbformat": 4,
 "nbformat_minor": 5
}
